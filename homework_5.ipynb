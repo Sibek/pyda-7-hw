{
 "cells": [
  {
   "cell_type": "markdown",
   "metadata": {},
   "source": [
    "# Домашнее задание\n",
    "1. Переведите содержимое файла purchase_log.txt в словарь purchases вида:\n",
    "```python\n",
    "{'1840e0b9d4': 'Продукты', ...}\n",
    "```\n",
    "\n",
    "2. Для каждого user_id в файле visit_log.csv добавьте третий столбец с категорией покупки (если покупка была).\n",
    "\n",
    "3. Запишите в файл funnel.csv визиты из файла visit_log.csv, в которых были покупки с указанием категории.\n",
    "\n",
    "Учтите условия на данные:\n",
    "- содержимое purchase_log.txt помещается в оперативную память компьютера\n",
    "- содержимое visit_log.csv - нет; используйте только построчную обработку этого файла"
   ]
  },
  {
   "cell_type": "code",
   "execution_count": 13,
   "metadata": {},
   "outputs": [],
   "source": [
    "i = 0\n",
    "purchases = {}\n",
    "with open('purchase_log.txt') as file:\n",
    "    for x in file:\n",
    "        x = x.strip()\n",
    "        a = json.loads(x)\n",
    "        purchases[a['user_id']] = a['category']\n",
    "#         i += 1\n",
    "#         if i > 10:\n",
    "#             break\n",
    "del(purchases['user_id'])\n",
    "# print(purchases)"
   ]
  },
  {
   "cell_type": "code",
   "execution_count": 10,
   "metadata": {},
   "outputs": [],
   "source": [
    "i = 0\n",
    "with open('visit_log.csv') as file_2:\n",
    "    for y in file_2:\n",
    "        y = y.strip().split(',')\n",
    "        y.append(purchases.get(y[0]))\n",
    "#         print(y)\n",
    "#         i += 1\n",
    "#         if i > 1000:\n",
    "#             break"
   ]
  },
  {
   "cell_type": "code",
   "execution_count": 11,
   "metadata": {},
   "outputs": [],
   "source": [
    "with open('funnel.csv', 'w') as f:\n",
    "    with open('visit_log.csv') as file_2:\n",
    "        for y in file_2:\n",
    "            y = y.strip().split(',')\n",
    "            if y[0] in purchases:\n",
    "                y.append(purchases.get(y[0]))\n",
    "                myString = ','.join(y)\n",
    "                f.write(myString + '\\n')\n",
    "f.close()"
   ]
  }
 ],
 "metadata": {
  "kernelspec": {
   "display_name": "Python 3",
   "language": "python",
   "name": "python3"
  },
  "language_info": {
   "codemirror_mode": {
    "name": "ipython",
    "version": 3
   },
   "file_extension": ".py",
   "mimetype": "text/x-python",
   "name": "python",
   "nbconvert_exporter": "python",
   "pygments_lexer": "ipython3",
   "version": "3.7.4"
  }
 },
 "nbformat": 4,
 "nbformat_minor": 2
}

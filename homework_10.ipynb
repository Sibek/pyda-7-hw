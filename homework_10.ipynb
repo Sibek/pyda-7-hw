{
 "cells": [
  {
   "cell_type": "markdown",
   "metadata": {},
   "source": [
    "# Домашнее задание"
   ]
  },
  {
   "cell_type": "markdown",
   "metadata": {},
   "source": [
    "## Задание 1\n",
    "Скачайте с сайта https://grouplens.org/datasets/movielens/ датасет любого размера. Определите какому фильму было выставлено больше всего оценок 5.0."
   ]
  },
  {
   "cell_type": "code",
   "execution_count": 83,
   "metadata": {},
   "outputs": [],
   "source": [
    "import pandas as pd"
   ]
  },
  {
   "cell_type": "code",
   "execution_count": 84,
   "metadata": {},
   "outputs": [
    {
     "data": {
      "text/plain": [
       "Shawshank Redemption, The (1994)    153\n",
       "Name: title, dtype: int64"
      ]
     },
     "execution_count": 84,
     "metadata": {},
     "output_type": "execute_result"
    }
   ],
   "source": [
    "movies = pd.read_csv('movies.csv')\n",
    "ratings = pd.read_csv('ratings.csv')\n",
    "joined = ratings.merge(movies, on='movieId', how='left')\n",
    "ratings_5 = joined[ joined.rating == 5 ]\n",
    "ratings_5['title'].value_counts().head(1)"
   ]
  },
  {
   "cell_type": "markdown",
   "metadata": {},
   "source": [
    "## Задание 2\n",
    "По данным файла power.csv посчитайте суммарное потребление стран Прибалтики (Латвия, Литва и Эстония) категорий 4, 12 и 21 за период с 2005 по 2010 года. Не учитывайте в расчетах отрицательные значения quantity."
   ]
  },
  {
   "cell_type": "code",
   "execution_count": 85,
   "metadata": {},
   "outputs": [
    {
     "name": "stdout",
     "output_type": "stream",
     "text": [
      "['Latvia'] ['Lithuania'] ['Estonia' 'State of Palestine' 'Timor-Leste']\n"
     ]
    }
   ],
   "source": [
    "power = pd.read_csv('power.csv')\n",
    "print(power[ power['country'].str.contains('lat', case=False) ]['country'].unique(), power[ power['country'].str.contains('lit', case=False) ]['country'].unique(), power[ power['country'].str.contains('est', case=False) ]['country'].unique())"
   ]
  },
  {
   "cell_type": "code",
   "execution_count": 86,
   "metadata": {},
   "outputs": [
    {
     "name": "stdout",
     "output_type": "stream",
     "text": [
      "240580.0\n"
     ]
    }
   ],
   "source": [
    "filtered_countries_1 = power[ ((power['country']=='Lithuania') | (power['country']=='Latvia') | \\\n",
    "                               (power['country']=='Estonia')) & ((power['category'] == 4) | \\\n",
    "                                (power['category'] == 12) | (power['category'] == 21)) & \\\n",
    "                            ((power['year'] >= 2005) & (power['year'] <= 2010))]\n",
    "a = 0\n",
    "for i in filtered_countries_1.quantity:\n",
    "    if i > 0:\n",
    "        a += i\n",
    "print(a)"
   ]
  },
  {
   "cell_type": "markdown",
   "metadata": {},
   "source": [
    "## Задание 3\n",
    "Выберите страницу любого сайта с табличными данными. Импортируйте таблицы в pandas dataframe.\n",
    "Примеры страниц (необязательно брать именно эти):\n",
    "https://fortrader.org/quotes\n",
    "https://www.finanz.ru/valyuty/v-realnom-vremeni"
   ]
  },
  {
   "cell_type": "code",
   "execution_count": 87,
   "metadata": {},
   "outputs": [],
   "source": [
    "page_url = 'https://www.kinopoisk.ru/top/'\n",
    "df = pd.read_html(page_url, header=None)[5]\n",
    "df.columns = ['Рейтинг', 'Фильм', 'Оценка', '_']\n",
    "kinopoisk_top = df[['Рейтинг', 'Фильм', 'Оценка']].loc[1:]"
   ]
  },
  {
   "cell_type": "code",
   "execution_count": 88,
   "metadata": {},
   "outputs": [
    {
     "data": {
      "text/html": [
       "<div>\n",
       "<style scoped>\n",
       "    .dataframe tbody tr th:only-of-type {\n",
       "        vertical-align: middle;\n",
       "    }\n",
       "\n",
       "    .dataframe tbody tr th {\n",
       "        vertical-align: top;\n",
       "    }\n",
       "\n",
       "    .dataframe thead th {\n",
       "        text-align: right;\n",
       "    }\n",
       "</style>\n",
       "<table border=\"1\" class=\"dataframe\">\n",
       "  <thead>\n",
       "    <tr style=\"text-align: right;\">\n",
       "      <th></th>\n",
       "      <th>Рейтинг</th>\n",
       "      <th>Фильм</th>\n",
       "      <th>Оценка</th>\n",
       "    </tr>\n",
       "  </thead>\n",
       "  <tbody>\n",
       "    <tr>\n",
       "      <td>1</td>\n",
       "      <td>1.0</td>\n",
       "      <td>Побег из Шоушенка (1994)The Shawshank Redemption</td>\n",
       "      <td>9.190 (533 435)</td>\n",
       "    </tr>\n",
       "    <tr>\n",
       "      <td>2</td>\n",
       "      <td>2.0</td>\n",
       "      <td>Зеленая миля (1999)The Green Mile</td>\n",
       "      <td>9.134 (496 592)</td>\n",
       "    </tr>\n",
       "    <tr>\n",
       "      <td>3</td>\n",
       "      <td>3.0</td>\n",
       "      <td>Форрест Гамп (1994)Forrest Gump</td>\n",
       "      <td>9.013 (483 843)</td>\n",
       "    </tr>\n",
       "    <tr>\n",
       "      <td>4</td>\n",
       "      <td>4.0</td>\n",
       "      <td>Список Шиндлера (1993)Schindler's List</td>\n",
       "      <td>8.886 (268 832)</td>\n",
       "    </tr>\n",
       "    <tr>\n",
       "      <td>5</td>\n",
       "      <td>5.0</td>\n",
       "      <td>1+1 (2011)Intouchables</td>\n",
       "      <td>8.829 (524 837)</td>\n",
       "    </tr>\n",
       "  </tbody>\n",
       "</table>\n",
       "</div>"
      ],
      "text/plain": [
       "   Рейтинг                                             Фильм           Оценка\n",
       "1      1.0  Побег из Шоушенка (1994)The Shawshank Redemption  9.190 (533 435)\n",
       "2      2.0                 Зеленая миля (1999)The Green Mile  9.134 (496 592)\n",
       "3      3.0                   Форрест Гамп (1994)Forrest Gump  9.013 (483 843)\n",
       "4      4.0            Список Шиндлера (1993)Schindler's List  8.886 (268 832)\n",
       "5      5.0                            1+1 (2011)Intouchables  8.829 (524 837)"
      ]
     },
     "execution_count": 88,
     "metadata": {},
     "output_type": "execute_result"
    }
   ],
   "source": [
    "kinopoisk_top.head()"
   ]
  }
 ],
 "metadata": {
  "kernelspec": {
   "display_name": "Python 3",
   "language": "python",
   "name": "python3"
  },
  "language_info": {
   "codemirror_mode": {
    "name": "ipython",
    "version": 3
   },
   "file_extension": ".py",
   "mimetype": "text/x-python",
   "name": "python",
   "nbconvert_exporter": "python",
   "pygments_lexer": "ipython3",
   "version": "3.7.4"
  }
 },
 "nbformat": 4,
 "nbformat_minor": 2
}

{
 "cells": [
  {
   "cell_type": "markdown",
   "metadata": {},
   "source": [
    "# Домашнее задание к лекции \"Регулярные выражения\""
   ]
  },
  {
   "cell_type": "markdown",
   "metadata": {},
   "source": [
    "## Задание 1"
   ]
  },
  {
   "cell_type": "markdown",
   "metadata": {},
   "source": [
    "Напишите функцию, которая принимает на вход строку и проверяет является ли она валидным транспортным номером. Если да, то функция должна возвращать отдельно номер и регион."
   ]
  },
  {
   "cell_type": "code",
   "execution_count": 1,
   "metadata": {},
   "outputs": [],
   "source": [
    "import re"
   ]
  },
  {
   "cell_type": "code",
   "execution_count": 2,
   "metadata": {},
   "outputs": [],
   "source": [
    "def auto_nuber (n):\n",
    "    regex_number = '[АВЕКМНОРСТУХавекмнорстух]{1}[1-9]{3}[АВЕКМНОРСТУХавекмнорстух]{2}[1-9]{2,3}'\n",
    "    if re.match(regex_number,n):\n",
    "        print('Транспортный номер -',n[0:6],'Регион -',n[6:])\n",
    "    else:\n",
    "        print('Неверный номер')"
   ]
  },
  {
   "cell_type": "code",
   "execution_count": 6,
   "metadata": {},
   "outputs": [
    {
     "name": "stdout",
     "output_type": "stream",
     "text": [
      "Введите транспортный номер в формате х000хх77х777хх77\n",
      "Транспортный номер - х777хх Регион - 77\n"
     ]
    }
   ],
   "source": [
    "n = input('Введите транспортный номер в формате х000хх77')\n",
    "auto_nuber (n)"
   ]
  },
  {
   "cell_type": "markdown",
   "metadata": {},
   "source": [
    "## Задание 2"
   ]
  },
  {
   "cell_type": "markdown",
   "metadata": {},
   "source": [
    "Напишите функцию, которая проверяет e-mail адрес на валидность по стандарту RFC822: http://www.w3.org/Protocols/rfc822/. Для этого постарайтесь написать (в крайнем случае найти) самый полный шаблон для проверки e-mail адресов через регулярное выражение. Разберитесь и напишите примеры, какие ваш шаблон может не охватить."
   ]
  },
  {
   "cell_type": "code",
   "execution_count": 7,
   "metadata": {},
   "outputs": [],
   "source": [
    "regex_mails = '^[a-zA-Z0-9]+([\\._-]?[a-zA-Z0-9]+)*@[a-zA-Z0-9]+([_-]?[a-zA-Z0-9]+)*(\\.[a-zA-Z]{2,6})+$'"
   ]
  },
  {
   "cell_type": "code",
   "execution_count": 8,
   "metadata": {},
   "outputs": [],
   "source": [
    "emails = ['exam-ple_1@gmail.com', \"#!$%&'*+-/=?^_`{}|~@mail.org\", 'exaple.\"@\".word@mail.com', '(comment)a@b.com']"
   ]
  },
  {
   "cell_type": "code",
   "execution_count": 9,
   "metadata": {},
   "outputs": [
    {
     "name": "stdout",
     "output_type": "stream",
     "text": [
      "The email exam-ple_1@gmail.com is a valid email\n",
      "The email #!$%&'*+-/=?^_`{}|~@mail.org is invalid\n",
      "The email exaple.\"@\".word@mail.com is invalid\n",
      "The email (comment)a@b.com is invalid\n"
     ]
    }
   ],
   "source": [
    "for email in emails:\n",
    "    if re.match(regex_mails, email):\n",
    "        print('The email {} is a valid email'.format(email))\n",
    "    else:\n",
    "        print('The email {} is invalid'.format(email))"
   ]
  },
  {
   "cell_type": "markdown",
   "metadata": {},
   "source": [
    "#### Адреса, которые будут считаться невалидными, но при этом они могут существовать:\n",
    "\n",
    "#!$%&'*+-/=?^_`{}|~@example.org\n",
    "\n",
    "exaple.\"@\".word@mail.com\n",
    "\n",
    "(comment)a@b.com"
   ]
  },
  {
   "cell_type": "markdown",
   "metadata": {},
   "source": [
    "## Задание 3\n",
    "Напишите функцию, которая будет удалять все последовательные повторы слов из заданной строки."
   ]
  },
  {
   "cell_type": "code",
   "execution_count": 20,
   "metadata": {},
   "outputs": [
    {
     "name": "stdout",
     "output_type": "stream",
     "text": [
      "Необходимо удалить повторяющееся слова\n"
     ]
    }
   ],
   "source": [
    "a = 'Необходимо удалить удалить повторяющееся слова слова слова слова'\n",
    "text = re.sub(r'\\b(\\w+)( \\1\\b)+', r'\\1', a)\n",
    "print(text)"
   ]
  },
  {
   "cell_type": "markdown",
   "metadata": {},
   "source": [
    "## Задание 4\n",
    "Напишите функцию, которая будет проверять номер сотового телефона на валидность, если он валиден, то переводить его в формат:   \n",
    "+7(xxx)-xxx-xx-xx  \n",
    "Постарайтесь предусмотреть как можно больше адекватных форматов изначального ввода номера.\n",
    "Примеры правильных и неправильных форматов:\n",
    "- +7 955 555-55-55;\n",
    "- 955555555;\n",
    "- 8(955)555-55-55;\n",
    "- +7 955 555 55 55;\n",
    "- 7(955) 555-55-55;\n",
    "- +7 955+555+55+55."
   ]
  },
  {
   "cell_type": "code",
   "execution_count": 16,
   "metadata": {},
   "outputs": [],
   "source": [
    "def check_number(number):\n",
    "    a = number.split()\n",
    "    a = ''.join(a)\n",
    "    b = a.replace('-','')\n",
    "    c = b.replace('(','')\n",
    "    d = c.replace(')','')\n",
    "    e = d.replace('+','')\n",
    "    f = e.replace('_','')\n",
    "    if f[0] in ['7', '8']:\n",
    "        if re.match('^[0-9]{10}$', f[1:]):\n",
    "            print('+7', '(', f[1:4], ')-', f[4:7], '-', f[7:9], '-', f[9:], sep = '')\n",
    "        else:\n",
    "            print('Неверно введен номер телефона')\n",
    "    elif len(f) == 10:\n",
    "        if re.match('^[0-9]{10}$', f[0:]):\n",
    "            print('+7', '(', f[0:3], ')-', f[3:6], '-', f[6:8], '-', f[8:], sep = '')\n",
    "        else:\n",
    "            print('Неверно введен номер телефона')\n",
    "    else:\n",
    "        print('Неверно введен номер телефона')"
   ]
  },
  {
   "cell_type": "code",
   "execution_count": 18,
   "metadata": {},
   "outputs": [
    {
     "name": "stdout",
     "output_type": "stream",
     "text": [
      "+7(955)-555-55-55\n",
      "Неверно введен номер телефона\n",
      "+7(955)-555-55-55\n",
      "+7(955)-555-55-55\n",
      "+7(955)-555-55-55\n",
      "+7(955)-555-55-55\n",
      "Неверно введен номер телефона\n",
      "+7(955)-555-55-55\n"
     ]
    }
   ],
   "source": [
    "n = ['+7 955 555-55-55', '955555555', '8(955)555-55-55', '+7 955 555 55 55', '7(955) 555-55-55', '+7 955+555+55+55', '+7 955 555 55 5', '7_955_555_55_55']\n",
    "for i in n:\n",
    "    check_number(i)"
   ]
  }
 ],
 "metadata": {
  "kernelspec": {
   "display_name": "Python 3",
   "language": "python",
   "name": "python3"
  },
  "language_info": {
   "codemirror_mode": {
    "name": "ipython",
    "version": 3
   },
   "file_extension": ".py",
   "mimetype": "text/x-python",
   "name": "python",
   "nbconvert_exporter": "python",
   "pygments_lexer": "ipython3",
   "version": "3.7.4"
  }
 },
 "nbformat": 4,
 "nbformat_minor": 2
}

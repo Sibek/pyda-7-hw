{
 "cells": [
  {
   "cell_type": "markdown",
   "metadata": {},
   "source": [
    "# Дипломная работа"
   ]
  },
  {
   "cell_type": "markdown",
   "metadata": {},
   "source": [
    "Проектная работа по модулю “Математика и статистика в Python”\n",
    "1. Загрузить файл hr.csv.\n",
    "2. Рассчитать основные статистики для переменных (среднее,медиана,мода,мин/макс,сред.отклонение).\n",
    "3. Рассчитать и визуализировать корреляционную матрицу для переменных.\n",
    "4. Визуализировать несколько взаимосвязей между переменными.\n",
    "5. С использованием t-test статистики проверить взаимосвязи между несколькими переменными.\n",
    "6. Рассчитать сколько работников работает в каждом департаменте.\n",
    "7. Показать распределение сотрудников по зарплатам.\n",
    "8. Показать распределение сотрудников по зарплатам совместно с департаментами.\n",
    "9. Сколько сотрудников покинули компанию.\n",
    "10. Проверить несколько гипотез для данных, чтобы понять почему сотрудники покидают компанию.\n",
    "11. Загрузить результат (в формате .ipynb ноутбука) в репозиторий. Разместить ссылку на репозиторий в Личном кабинете"
   ]
  },
  {
   "cell_type": "code",
   "execution_count": 1,
   "metadata": {},
   "outputs": [],
   "source": [
    "import pandas as pd\n",
    "import numpy as np\n",
    "import matplotlib.pyplot as plt\n",
    "import scipy.stats as sts\n",
    "%matplotlib inline\n",
    "import statistics\n",
    "import seaborn as sns\n",
    "from scipy import stats"
   ]
  },
  {
   "cell_type": "markdown",
   "metadata": {},
   "source": [
    "### 1. Загрузить файл hr.csv"
   ]
  },
  {
   "cell_type": "code",
   "execution_count": 2,
   "metadata": {
    "scrolled": true
   },
   "outputs": [
    {
     "data": {
      "text/html": [
       "<div>\n",
       "<style scoped>\n",
       "    .dataframe tbody tr th:only-of-type {\n",
       "        vertical-align: middle;\n",
       "    }\n",
       "\n",
       "    .dataframe tbody tr th {\n",
       "        vertical-align: top;\n",
       "    }\n",
       "\n",
       "    .dataframe thead th {\n",
       "        text-align: right;\n",
       "    }\n",
       "</style>\n",
       "<table border=\"1\" class=\"dataframe\">\n",
       "  <thead>\n",
       "    <tr style=\"text-align: right;\">\n",
       "      <th></th>\n",
       "      <th>satisfaction_level</th>\n",
       "      <th>last_evaluation</th>\n",
       "      <th>number_project</th>\n",
       "      <th>average_montly_hours</th>\n",
       "      <th>time_spend_company</th>\n",
       "      <th>Work_accident</th>\n",
       "      <th>left</th>\n",
       "      <th>promotion_last_5years</th>\n",
       "      <th>sales</th>\n",
       "      <th>salary</th>\n",
       "    </tr>\n",
       "  </thead>\n",
       "  <tbody>\n",
       "    <tr>\n",
       "      <th>0</th>\n",
       "      <td>0.38</td>\n",
       "      <td>0.53</td>\n",
       "      <td>2</td>\n",
       "      <td>157</td>\n",
       "      <td>3</td>\n",
       "      <td>0</td>\n",
       "      <td>1</td>\n",
       "      <td>0</td>\n",
       "      <td>sales</td>\n",
       "      <td>low</td>\n",
       "    </tr>\n",
       "    <tr>\n",
       "      <th>1</th>\n",
       "      <td>0.80</td>\n",
       "      <td>0.86</td>\n",
       "      <td>5</td>\n",
       "      <td>262</td>\n",
       "      <td>6</td>\n",
       "      <td>0</td>\n",
       "      <td>1</td>\n",
       "      <td>0</td>\n",
       "      <td>sales</td>\n",
       "      <td>medium</td>\n",
       "    </tr>\n",
       "    <tr>\n",
       "      <th>2</th>\n",
       "      <td>0.11</td>\n",
       "      <td>0.88</td>\n",
       "      <td>7</td>\n",
       "      <td>272</td>\n",
       "      <td>4</td>\n",
       "      <td>0</td>\n",
       "      <td>1</td>\n",
       "      <td>0</td>\n",
       "      <td>sales</td>\n",
       "      <td>medium</td>\n",
       "    </tr>\n",
       "    <tr>\n",
       "      <th>3</th>\n",
       "      <td>0.72</td>\n",
       "      <td>0.87</td>\n",
       "      <td>5</td>\n",
       "      <td>223</td>\n",
       "      <td>5</td>\n",
       "      <td>0</td>\n",
       "      <td>1</td>\n",
       "      <td>0</td>\n",
       "      <td>sales</td>\n",
       "      <td>low</td>\n",
       "    </tr>\n",
       "    <tr>\n",
       "      <th>4</th>\n",
       "      <td>0.37</td>\n",
       "      <td>0.52</td>\n",
       "      <td>2</td>\n",
       "      <td>159</td>\n",
       "      <td>3</td>\n",
       "      <td>0</td>\n",
       "      <td>1</td>\n",
       "      <td>0</td>\n",
       "      <td>sales</td>\n",
       "      <td>low</td>\n",
       "    </tr>\n",
       "  </tbody>\n",
       "</table>\n",
       "</div>"
      ],
      "text/plain": [
       "   satisfaction_level  last_evaluation  number_project  average_montly_hours  \\\n",
       "0                0.38             0.53               2                   157   \n",
       "1                0.80             0.86               5                   262   \n",
       "2                0.11             0.88               7                   272   \n",
       "3                0.72             0.87               5                   223   \n",
       "4                0.37             0.52               2                   159   \n",
       "\n",
       "   time_spend_company  Work_accident  left  promotion_last_5years  sales  \\\n",
       "0                   3              0     1                      0  sales   \n",
       "1                   6              0     1                      0  sales   \n",
       "2                   4              0     1                      0  sales   \n",
       "3                   5              0     1                      0  sales   \n",
       "4                   3              0     1                      0  sales   \n",
       "\n",
       "   salary  \n",
       "0     low  \n",
       "1  medium  \n",
       "2  medium  \n",
       "3     low  \n",
       "4     low  "
      ]
     },
     "execution_count": 2,
     "metadata": {},
     "output_type": "execute_result"
    }
   ],
   "source": [
    "df = pd.read_csv('hr.csv')\n",
    "df.head()"
   ]
  },
  {
   "cell_type": "code",
   "execution_count": 3,
   "metadata": {},
   "outputs": [],
   "source": [
    "df_sample = df.filter(items = ['satisfaction_level',\n",
    "                               'last_evaluation',\n",
    "                               'average_montly_hours',\n",
    "                               'time_spend_company',\n",
    "                               'Work_accident',\n",
    "                               'left',\n",
    "                               'promotion_last_5years'])"
   ]
  },
  {
   "cell_type": "code",
   "execution_count": 4,
   "metadata": {},
   "outputs": [
    {
     "data": {
      "text/plain": [
       "(14999, 7)"
      ]
     },
     "execution_count": 4,
     "metadata": {},
     "output_type": "execute_result"
    }
   ],
   "source": [
    "df_sample.shape"
   ]
  },
  {
   "cell_type": "markdown",
   "metadata": {},
   "source": [
    "### 3. Рассчитать основные статистики для переменных (среднее,медиана,мода,мин/макс,сред.отклонение)"
   ]
  },
  {
   "cell_type": "code",
   "execution_count": 5,
   "metadata": {},
   "outputs": [],
   "source": [
    "def stats_(row):\n",
    "    try:\n",
    "        list_ = [statistics.mean(row), statistics.median(row), statistics.mode(row), min(row), max(row), statistics.pstdev(row)]\n",
    "    except:\n",
    "        list_ = [statistics.mean(row), statistics.median(row), '', min(row), max(row), statistics.pstdev(row)]\n",
    "    return list_"
   ]
  },
  {
   "cell_type": "code",
   "execution_count": 6,
   "metadata": {
    "scrolled": true
   },
   "outputs": [
    {
     "data": {
      "text/html": [
       "<div>\n",
       "<style scoped>\n",
       "    .dataframe tbody tr th:only-of-type {\n",
       "        vertical-align: middle;\n",
       "    }\n",
       "\n",
       "    .dataframe tbody tr th {\n",
       "        vertical-align: top;\n",
       "    }\n",
       "\n",
       "    .dataframe thead th {\n",
       "        text-align: right;\n",
       "    }\n",
       "</style>\n",
       "<table border=\"1\" class=\"dataframe\">\n",
       "  <thead>\n",
       "    <tr style=\"text-align: right;\">\n",
       "      <th></th>\n",
       "      <th>Stats</th>\n",
       "      <th>satisfaction_level</th>\n",
       "      <th>last_evaluation</th>\n",
       "      <th>average_montly_hours</th>\n",
       "      <th>time_spend_company</th>\n",
       "      <th>Work_accident</th>\n",
       "      <th>left</th>\n",
       "      <th>promotion_last_5years</th>\n",
       "    </tr>\n",
       "  </thead>\n",
       "  <tbody>\n",
       "    <tr>\n",
       "      <th>0</th>\n",
       "      <td>Mean</td>\n",
       "      <td>0.612834</td>\n",
       "      <td>0.716102</td>\n",
       "      <td>201.05</td>\n",
       "      <td>3.498233</td>\n",
       "      <td>0.144610</td>\n",
       "      <td>0.238083</td>\n",
       "      <td>0.021268</td>\n",
       "    </tr>\n",
       "    <tr>\n",
       "      <th>1</th>\n",
       "      <td>Median</td>\n",
       "      <td>0.640000</td>\n",
       "      <td>0.720000</td>\n",
       "      <td>200</td>\n",
       "      <td>3.000000</td>\n",
       "      <td>0.000000</td>\n",
       "      <td>0.000000</td>\n",
       "      <td>0.000000</td>\n",
       "    </tr>\n",
       "    <tr>\n",
       "      <th>2</th>\n",
       "      <td>Mode</td>\n",
       "      <td>0.100000</td>\n",
       "      <td>0.550000</td>\n",
       "      <td></td>\n",
       "      <td>3.000000</td>\n",
       "      <td>0.000000</td>\n",
       "      <td>0.000000</td>\n",
       "      <td>0.000000</td>\n",
       "    </tr>\n",
       "    <tr>\n",
       "      <th>3</th>\n",
       "      <td>Min</td>\n",
       "      <td>0.090000</td>\n",
       "      <td>0.360000</td>\n",
       "      <td>96</td>\n",
       "      <td>2.000000</td>\n",
       "      <td>0.000000</td>\n",
       "      <td>0.000000</td>\n",
       "      <td>0.000000</td>\n",
       "    </tr>\n",
       "    <tr>\n",
       "      <th>4</th>\n",
       "      <td>Max</td>\n",
       "      <td>1.000000</td>\n",
       "      <td>1.000000</td>\n",
       "      <td>310</td>\n",
       "      <td>10.000000</td>\n",
       "      <td>1.000000</td>\n",
       "      <td>1.000000</td>\n",
       "      <td>1.000000</td>\n",
       "    </tr>\n",
       "    <tr>\n",
       "      <th>5</th>\n",
       "      <td>Standard deviation</td>\n",
       "      <td>0.248622</td>\n",
       "      <td>0.171163</td>\n",
       "      <td>49.9414</td>\n",
       "      <td>1.460088</td>\n",
       "      <td>0.351707</td>\n",
       "      <td>0.425910</td>\n",
       "      <td>0.144277</td>\n",
       "    </tr>\n",
       "  </tbody>\n",
       "</table>\n",
       "</div>"
      ],
      "text/plain": [
       "                Stats  satisfaction_level  last_evaluation  \\\n",
       "0                Mean            0.612834         0.716102   \n",
       "1              Median            0.640000         0.720000   \n",
       "2                Mode            0.100000         0.550000   \n",
       "3                 Min            0.090000         0.360000   \n",
       "4                 Max            1.000000         1.000000   \n",
       "5  Standard deviation            0.248622         0.171163   \n",
       "\n",
       "  average_montly_hours  time_spend_company  Work_accident      left  \\\n",
       "0               201.05            3.498233       0.144610  0.238083   \n",
       "1                  200            3.000000       0.000000  0.000000   \n",
       "2                                 3.000000       0.000000  0.000000   \n",
       "3                   96            2.000000       0.000000  0.000000   \n",
       "4                  310           10.000000       1.000000  1.000000   \n",
       "5              49.9414            1.460088       0.351707  0.425910   \n",
       "\n",
       "   promotion_last_5years  \n",
       "0               0.021268  \n",
       "1               0.000000  \n",
       "2               0.000000  \n",
       "3               0.000000  \n",
       "4               1.000000  \n",
       "5               0.144277  "
      ]
     },
     "execution_count": 6,
     "metadata": {},
     "output_type": "execute_result"
    }
   ],
   "source": [
    "stats_dict = {}\n",
    "stats_dict['Stats'] = ['Mean', 'Median', 'Mode', 'Min', 'Max', 'Standard deviation']\n",
    "for x in df_sample.columns.tolist():\n",
    "    stats_dict[x] = stats_(df_sample[x])\n",
    "df_stats = pd.DataFrame(stats_dict)\n",
    "df_stats"
   ]
  },
  {
   "cell_type": "markdown",
   "metadata": {},
   "source": [
    "### 3. Рассчитать и визуализировать корреляционную матрицу для переменных"
   ]
  },
  {
   "cell_type": "code",
   "execution_count": 7,
   "metadata": {},
   "outputs": [
    {
     "data": {
      "image/png": "[encoded data removed]",
      "text/plain": [
       "<Figure size 720x720 with 2 Axes>"
      ]
     },
     "metadata": {
      "needs_background": "light"
     },
     "output_type": "display_data"
    }
   ],
   "source": [
    "sns.heatmap(df_sample.corr(),annot=True,cmap='RdYlGn',linewidths=0.1)\n",
    "fig=plt.gcf()\n",
    "fig.set_size_inches(10, 10)\n",
    "plt.show()"
   ]
  },
  {
   "cell_type": "markdown",
   "metadata": {},
   "source": [
    "### 4. Визуализировать несколько взаимосвязей между переменными"
   ]
  },
  {
   "cell_type": "code",
   "execution_count": 43,
   "metadata": {
    "scrolled": false
   },
   "outputs": [
    {
     "data": {
      "image/png": "[encoded data removed]",
      "text/plain": [
       "<Figure size 432x288 with 1 Axes>"
      ]
     },
     "metadata": {
      "needs_background": "light"
     },
     "output_type": "display_data"
    }
   ],
   "source": [
    "plt.scatter(df['last_evaluation'], df['average_montly_hours'], marker='.')\n",
    "plt.xlabel('Last evaluation')\n",
    "plt.ylabel('Average monthly hours')\n",
    "plt.show()"
   ]
  },
  {
   "cell_type": "markdown",
   "metadata": {},
   "source": [
    "Судя по данному графику, не смотря на то, что между данными переменными самый большой коэффициент корреляции, они мало зависят друг от друга."
   ]
  },
  {
   "cell_type": "code",
   "execution_count": 24,
   "metadata": {},
   "outputs": [
    {
     "data": {
      "text/plain": [
       "<matplotlib.axes._subplots.AxesSubplot at 0x1a26baf590>"
      ]
     },
     "execution_count": 24,
     "metadata": {},
     "output_type": "execute_result"
    },
    {
     "data": {
      "image/png": "[encoded data removed]",
      "text/plain": [
       "<Figure size 432x288 with 1 Axes>"
      ]
     },
     "metadata": {
      "needs_background": "light"
     },
     "output_type": "display_data"
    }
   ],
   "source": [
    "ax = sns.boxplot(x=\"sales\", y=\"satisfaction_level\", data=df)\n",
    "ax.set_xticklabels(ax.get_xticklabels(), rotation=90)\n",
    "plt.title('Распределение по уровню удовлетворенности среди работников по департаментам')\n",
    "ax"
   ]
  },
  {
   "cell_type": "markdown",
   "metadata": {},
   "source": [
    "### 5. С использованием t-test статистики проверить взаимосвязи между несколькими переменными"
   ]
  },
  {
   "cell_type": "code",
   "execution_count": 10,
   "metadata": {},
   "outputs": [],
   "source": [
    "accidents = df[df['Work_accident']==1]['average_montly_hours']\n",
    "no_accidents = df[df['Work_accident']==0]['average_montly_hours']"
   ]
  },
  {
   "cell_type": "code",
   "execution_count": 11,
   "metadata": {},
   "outputs": [
    {
     "name": "stdout",
     "output_type": "stream",
     "text": [
      "2169 12830\n"
     ]
    }
   ],
   "source": [
    "print(len(accidents), len(no_accidents))"
   ]
  },
  {
   "cell_type": "code",
   "execution_count": 12,
   "metadata": {
    "scrolled": true
   },
   "outputs": [
    {
     "data": {
      "text/plain": [
       "Ttest_indResult(statistic=-1.2421846964457004, pvalue=0.21418784880707778)"
      ]
     },
     "execution_count": 12,
     "metadata": {},
     "output_type": "execute_result"
    }
   ],
   "source": [
    "stats.ttest_ind(accidents, no_accidents)"
   ]
  },
  {
   "cell_type": "code",
   "execution_count": 13,
   "metadata": {
    "scrolled": true
   },
   "outputs": [
    {
     "data": {
      "image/png": "[encoded data removed]",
      "text/plain": [
       "<Figure size 432x288 with 1 Axes>"
      ]
     },
     "metadata": {
      "needs_background": "light"
     },
     "output_type": "display_data"
    }
   ],
   "source": [
    "sns.distplot(accidents, 100)\n",
    "sns.distplot(no_accidents, 100)\n",
    "plt.title('Плотность вероятности распределения accidents')\n",
    "plt.legend(['With accidents', 'Without accidents'])\n",
    "plt.show()"
   ]
  },
  {
   "cell_type": "code",
   "execution_count": 14,
   "metadata": {},
   "outputs": [],
   "source": [
    "prom = df[df['promotion_last_5years']==1]['last_evaluation']\n",
    "no_prom = df[df['promotion_last_5years']==0]['last_evaluation']"
   ]
  },
  {
   "cell_type": "code",
   "execution_count": 15,
   "metadata": {},
   "outputs": [
    {
     "name": "stdout",
     "output_type": "stream",
     "text": [
      "319 14680\n"
     ]
    }
   ],
   "source": [
    "print(len(prom), len(no_prom))"
   ]
  },
  {
   "cell_type": "code",
   "execution_count": 16,
   "metadata": {},
   "outputs": [
    {
     "data": {
      "text/plain": [
       "Ttest_indResult(statistic=-1.0634737591328758, pvalue=0.28758428228213795)"
      ]
     },
     "execution_count": 16,
     "metadata": {},
     "output_type": "execute_result"
    }
   ],
   "source": [
    "stats.ttest_ind(prom, no_prom)"
   ]
  },
  {
   "cell_type": "code",
   "execution_count": 17,
   "metadata": {
    "scrolled": true
   },
   "outputs": [
    {
     "data": {
      "image/png": "[encoded data removed]",
      "text/plain": [
       "<Figure size 432x288 with 1 Axes>"
      ]
     },
     "metadata": {
      "needs_background": "light"
     },
     "output_type": "display_data"
    }
   ],
   "source": [
    "sns.distplot(prom, 100)\n",
    "sns.distplot(no_prom, 100)\n",
    "plt.show()"
   ]
  },
  {
   "cell_type": "markdown",
   "metadata": {},
   "source": [
    "В обоих случаях p-value намного больше стандартной альфа ошибки 0.05, поэтому мы принимаем нулевую гипотезу и можем сказать, что нет статистического различия в двух анализируемых примерах между выборками."
   ]
  },
  {
   "cell_type": "markdown",
   "metadata": {},
   "source": [
    "### 6. Рассчитать сколько работников работает в каждом департаменте"
   ]
  },
  {
   "cell_type": "code",
   "execution_count": 18,
   "metadata": {
    "scrolled": false
   },
   "outputs": [
    {
     "data": {
      "text/html": [
       "<div>\n",
       "<style scoped>\n",
       "    .dataframe tbody tr th:only-of-type {\n",
       "        vertical-align: middle;\n",
       "    }\n",
       "\n",
       "    .dataframe tbody tr th {\n",
       "        vertical-align: top;\n",
       "    }\n",
       "\n",
       "    .dataframe thead th {\n",
       "        text-align: right;\n",
       "    }\n",
       "</style>\n",
       "<table border=\"1\" class=\"dataframe\">\n",
       "  <thead>\n",
       "    <tr style=\"text-align: right;\">\n",
       "      <th></th>\n",
       "      <th>Department name</th>\n",
       "      <th>Amount of workers</th>\n",
       "      <th>%</th>\n",
       "    </tr>\n",
       "  </thead>\n",
       "  <tbody>\n",
       "    <tr>\n",
       "      <th>0</th>\n",
       "      <td>sales</td>\n",
       "      <td>4140</td>\n",
       "      <td>27.601840</td>\n",
       "    </tr>\n",
       "    <tr>\n",
       "      <th>1</th>\n",
       "      <td>technical</td>\n",
       "      <td>2720</td>\n",
       "      <td>18.134542</td>\n",
       "    </tr>\n",
       "    <tr>\n",
       "      <th>2</th>\n",
       "      <td>support</td>\n",
       "      <td>2229</td>\n",
       "      <td>14.860991</td>\n",
       "    </tr>\n",
       "    <tr>\n",
       "      <th>3</th>\n",
       "      <td>IT</td>\n",
       "      <td>1227</td>\n",
       "      <td>8.180545</td>\n",
       "    </tr>\n",
       "    <tr>\n",
       "      <th>4</th>\n",
       "      <td>product_mng</td>\n",
       "      <td>902</td>\n",
       "      <td>6.013734</td>\n",
       "    </tr>\n",
       "    <tr>\n",
       "      <th>5</th>\n",
       "      <td>marketing</td>\n",
       "      <td>858</td>\n",
       "      <td>5.720381</td>\n",
       "    </tr>\n",
       "    <tr>\n",
       "      <th>6</th>\n",
       "      <td>RandD</td>\n",
       "      <td>787</td>\n",
       "      <td>5.247016</td>\n",
       "    </tr>\n",
       "    <tr>\n",
       "      <th>7</th>\n",
       "      <td>accounting</td>\n",
       "      <td>767</td>\n",
       "      <td>5.113674</td>\n",
       "    </tr>\n",
       "    <tr>\n",
       "      <th>8</th>\n",
       "      <td>hr</td>\n",
       "      <td>739</td>\n",
       "      <td>4.926995</td>\n",
       "    </tr>\n",
       "    <tr>\n",
       "      <th>9</th>\n",
       "      <td>management</td>\n",
       "      <td>630</td>\n",
       "      <td>4.200280</td>\n",
       "    </tr>\n",
       "  </tbody>\n",
       "</table>\n",
       "</div>"
      ],
      "text/plain": [
       "  Department name  Amount of workers          %\n",
       "0           sales               4140  27.601840\n",
       "1       technical               2720  18.134542\n",
       "2         support               2229  14.860991\n",
       "3              IT               1227   8.180545\n",
       "4     product_mng                902   6.013734\n",
       "5       marketing                858   5.720381\n",
       "6           RandD                787   5.247016\n",
       "7      accounting                767   5.113674\n",
       "8              hr                739   4.926995\n",
       "9      management                630   4.200280"
      ]
     },
     "execution_count": 18,
     "metadata": {},
     "output_type": "execute_result"
    }
   ],
   "source": [
    "dep_count = df['sales'].reset_index().groupby(['sales']).count().sort_values(by = 'index', ascending = False).reset_index()\n",
    "dep_count.columns = ['Department name', 'Amount of workers']\n",
    "dep_count['%'] = (dep_count['Amount of workers'] / dep_count['Amount of workers'].sum()) * 100\n",
    "dep_count"
   ]
  },
  {
   "cell_type": "markdown",
   "metadata": {},
   "source": [
    "### 7. Показать распределение сотрудников по зарплатам"
   ]
  },
  {
   "cell_type": "code",
   "execution_count": 19,
   "metadata": {
    "scrolled": true
   },
   "outputs": [
    {
     "data": {
      "image/png": "[encoded data removed]",
      "text/plain": [
       "<Figure size 432x288 with 1 Axes>"
      ]
     },
     "metadata": {
      "needs_background": "light"
     },
     "output_type": "display_data"
    }
   ],
   "source": [
    "plt.ylabel('Amount of workers')\n",
    "plt.xlabel('Level of salary')\n",
    "plt.title('Distribution of workers by salary')\n",
    "plt.hist(df['salary'], 3)\n",
    "plt.show()"
   ]
  },
  {
   "cell_type": "markdown",
   "metadata": {},
   "source": [
    "### 8. Показать распределение сотрудников по зарплатам совместно с департаментами"
   ]
  },
  {
   "cell_type": "code",
   "execution_count": 47,
   "metadata": {},
   "outputs": [
    {
     "data": {
      "image/png": "[encoded data removed]",
      "text/plain": [
       "<Figure size 720x504 with 1 Axes>"
      ]
     },
     "metadata": {
      "needs_background": "light"
     },
     "output_type": "display_data"
    }
   ],
   "source": [
    "df_pivot = df.pivot_table(index = 'sales', columns = 'salary', values = 'satisfaction_level', aggfunc = 'count')\n",
    "df_pivot.plot.bar(stacked=True, figsize=(10,7))\n",
    "plt.ylabel('Amount of workers')\n",
    "plt.xlabel('Department name')\n",
    "plt.title('Salary distribution')\n",
    "plt.show()"
   ]
  },
  {
   "cell_type": "markdown",
   "metadata": {},
   "source": [
    "### 9. Сколько сотрудников покинули компанию"
   ]
  },
  {
   "cell_type": "code",
   "execution_count": 21,
   "metadata": {},
   "outputs": [
    {
     "name": "stdout",
     "output_type": "stream",
     "text": [
      "Amount of workers who left the company:  3571\n"
     ]
    }
   ],
   "source": [
    "print('Amount of workers who left the company: ', df['left'].sum())"
   ]
  },
  {
   "cell_type": "markdown",
   "metadata": {},
   "source": [
    "### 10. Проверить несколько гипотез для данных, чтобы понять почему сотрудники покидают компанию"
   ]
  },
  {
   "cell_type": "markdown",
   "metadata": {},
   "source": [
    "**Сравним уровень удовлетворенности у ушедших сотрудников с уровнем удовлетворенности работающих в компании**\n",
    "\n",
    "- Гипотеза H0 - уровень удовлетворенности у ушедших сотрудников ниже\n",
    "- Гипотеза H1 - уровень удовлетворенности у ушедших сотрудников на том же уровне"
   ]
  },
  {
   "cell_type": "code",
   "execution_count": 39,
   "metadata": {},
   "outputs": [],
   "source": [
    "left = df[df['left']==1]['satisfaction_level']\n",
    "workers = df[df['left']==0]['satisfaction_level']"
   ]
  },
  {
   "cell_type": "code",
   "execution_count": 41,
   "metadata": {},
   "outputs": [
    {
     "data": {
      "text/plain": [
       "Ttest_indResult(statistic=-51.61280155890104, pvalue=0.0)"
      ]
     },
     "execution_count": 41,
     "metadata": {},
     "output_type": "execute_result"
    }
   ],
   "source": [
    "stats.ttest_ind(left, workers)"
   ]
  },
  {
   "cell_type": "markdown",
   "metadata": {},
   "source": [
    "p-value намного больше стандартной альфа ошибки 0.05, поэтому мы принимаем нулевую гипотезу - уровень удовлетворенности у ушедших сотрудников статистически не отличается от уровнея удовлетворенности действующих сотрудников."
   ]
  },
  {
   "cell_type": "markdown",
   "metadata": {},
   "source": [
    "**Сравним распределение по уровню зарплаты у ушедших сотрудников и у работающих**"
   ]
  },
  {
   "cell_type": "code",
   "execution_count": 103,
   "metadata": {},
   "outputs": [
    {
     "data": {
      "image/png": "[encoded data removed]",
      "text/plain": [
       "<Figure size 720x360 with 1 Axes>"
      ]
     },
     "metadata": {
      "needs_background": "light"
     },
     "output_type": "display_data"
    }
   ],
   "source": [
    "df_pivot_2 = df.pivot_table(index = 'left', \n",
    "                            columns = 'salary', \n",
    "                            values = 'satisfaction_level', \n",
    "                            aggfunc = 'count').reset_index()\n",
    "f, ax = plt.subplots(1, figsize=(10,5))\n",
    "bar_width = 1\n",
    "\n",
    "bar_l = [i for i in range(len(df_pivot_2['high']))]  \n",
    "\n",
    "totals = [i+j+k for i,j,k in zip(df_pivot_2['high'], df_pivot_2['medium'], df_pivot_2['low'])]\n",
    "pre_rel = [i / j * 100 for  i,j in zip(df_pivot_2['high'], totals)]\n",
    "mid_rel = [i / j * 100 for  i,j in zip(df_pivot_2['medium'], totals)]\n",
    "post_rel = [i / j * 100 for  i,j in zip(df_pivot_2['low'], totals)]\n",
    "\n",
    "ax.bar(bar_l, \n",
    "       pre_rel, \n",
    "       label='High')\n",
    "ax.bar(bar_l, \n",
    "       mid_rel, \n",
    "       bottom=pre_rel, \n",
    "       label='Medium')\n",
    "ax.bar(bar_l, \n",
    "       post_rel, \n",
    "       bottom=[i+j for i,j in zip(pre_rel, mid_rel)], \n",
    "       label='Low')\n",
    "\n",
    "plt.xticks(df_pivot_2['left'])\n",
    "ax.set_ylabel(\"Percentage\")\n",
    "plt.legend(['High', 'Medium', 'Low'])\n",
    "\n",
    "plt.show()"
   ]
  },
  {
   "cell_type": "markdown",
   "metadata": {},
   "source": [
    "У уволившихся сотрудников преобладает низкий уровень зарплаты, в то время как сотрудников с высоким уровенем менее 5%. Это может являтся одной из причин уволнения сотрудников."
   ]
  },
  {
   "cell_type": "markdown",
   "metadata": {},
   "source": [
    "**Сравним среднемесячное отработанное время у ушедших сотрудников со среднемесячным отработанным временем работающих в компании**\n",
    "\n",
    "- Гипотеза H0 - среднемесячное время у ушедших сотрудников выше\n",
    "- Гипотеза H1 - среднемесячное время у ушедших сотрудников на том же уровне"
   ]
  },
  {
   "cell_type": "code",
   "execution_count": 114,
   "metadata": {},
   "outputs": [],
   "source": [
    "left_2 = df[df['left']==1]['average_montly_hours']\n",
    "workers_2 = df[df['left']==0]['average_montly_hours']"
   ]
  },
  {
   "cell_type": "code",
   "execution_count": 116,
   "metadata": {
    "scrolled": true
   },
   "outputs": [
    {
     "data": {
      "text/plain": [
       "Ttest_indResult(statistic=8.752254731850009, pvalue=2.3113035567540143e-18)"
      ]
     },
     "execution_count": 116,
     "metadata": {},
     "output_type": "execute_result"
    }
   ],
   "source": [
    "stats.ttest_ind(left_2, workers_2)"
   ]
  },
  {
   "cell_type": "markdown",
   "metadata": {},
   "source": [
    "p-value выше стандартной альфа ошибки 0.05, поэтому мы принимаем нулевую гипотезу"
   ]
  },
  {
   "cell_type": "markdown",
   "metadata": {},
   "source": [
    "**Посмотрим в какие департаментах наибольшая текучесть кадров**"
   ]
  },
  {
   "cell_type": "code",
   "execution_count": 133,
   "metadata": {
    "scrolled": true
   },
   "outputs": [
    {
     "data": {
      "text/html": [
       "<div>\n",
       "<style scoped>\n",
       "    .dataframe tbody tr th:only-of-type {\n",
       "        vertical-align: middle;\n",
       "    }\n",
       "\n",
       "    .dataframe tbody tr th {\n",
       "        vertical-align: top;\n",
       "    }\n",
       "\n",
       "    .dataframe thead th {\n",
       "        text-align: right;\n",
       "    }\n",
       "</style>\n",
       "<table border=\"1\" class=\"dataframe\">\n",
       "  <thead>\n",
       "    <tr style=\"text-align: right;\">\n",
       "      <th>left</th>\n",
       "      <th>sales</th>\n",
       "      <th>0</th>\n",
       "      <th>1</th>\n",
       "      <th>staff turnover</th>\n",
       "    </tr>\n",
       "  </thead>\n",
       "  <tbody>\n",
       "    <tr>\n",
       "      <th>0</th>\n",
       "      <td>hr</td>\n",
       "      <td>524</td>\n",
       "      <td>215</td>\n",
       "      <td>29.093369</td>\n",
       "    </tr>\n",
       "    <tr>\n",
       "      <th>1</th>\n",
       "      <td>accounting</td>\n",
       "      <td>563</td>\n",
       "      <td>204</td>\n",
       "      <td>26.597132</td>\n",
       "    </tr>\n",
       "    <tr>\n",
       "      <th>2</th>\n",
       "      <td>technical</td>\n",
       "      <td>2023</td>\n",
       "      <td>697</td>\n",
       "      <td>25.625000</td>\n",
       "    </tr>\n",
       "    <tr>\n",
       "      <th>3</th>\n",
       "      <td>support</td>\n",
       "      <td>1674</td>\n",
       "      <td>555</td>\n",
       "      <td>24.899058</td>\n",
       "    </tr>\n",
       "    <tr>\n",
       "      <th>4</th>\n",
       "      <td>sales</td>\n",
       "      <td>3126</td>\n",
       "      <td>1014</td>\n",
       "      <td>24.492754</td>\n",
       "    </tr>\n",
       "    <tr>\n",
       "      <th>5</th>\n",
       "      <td>marketing</td>\n",
       "      <td>655</td>\n",
       "      <td>203</td>\n",
       "      <td>23.659674</td>\n",
       "    </tr>\n",
       "    <tr>\n",
       "      <th>6</th>\n",
       "      <td>IT</td>\n",
       "      <td>954</td>\n",
       "      <td>273</td>\n",
       "      <td>22.249389</td>\n",
       "    </tr>\n",
       "    <tr>\n",
       "      <th>7</th>\n",
       "      <td>product_mng</td>\n",
       "      <td>704</td>\n",
       "      <td>198</td>\n",
       "      <td>21.951220</td>\n",
       "    </tr>\n",
       "    <tr>\n",
       "      <th>8</th>\n",
       "      <td>RandD</td>\n",
       "      <td>666</td>\n",
       "      <td>121</td>\n",
       "      <td>15.374841</td>\n",
       "    </tr>\n",
       "    <tr>\n",
       "      <th>9</th>\n",
       "      <td>management</td>\n",
       "      <td>539</td>\n",
       "      <td>91</td>\n",
       "      <td>14.444444</td>\n",
       "    </tr>\n",
       "  </tbody>\n",
       "</table>\n",
       "</div>"
      ],
      "text/plain": [
       "left        sales     0     1  staff turnover\n",
       "0              hr   524   215       29.093369\n",
       "1      accounting   563   204       26.597132\n",
       "2       technical  2023   697       25.625000\n",
       "3         support  1674   555       24.899058\n",
       "4           sales  3126  1014       24.492754\n",
       "5       marketing   655   203       23.659674\n",
       "6              IT   954   273       22.249389\n",
       "7     product_mng   704   198       21.951220\n",
       "8           RandD   666   121       15.374841\n",
       "9      management   539    91       14.444444"
      ]
     },
     "execution_count": 133,
     "metadata": {},
     "output_type": "execute_result"
    }
   ],
   "source": [
    "df_pivot_3 = df.pivot_table(index = 'sales', \n",
    "                            columns = 'left', \n",
    "                            values = 'satisfaction_level', \n",
    "                            aggfunc = 'count')\n",
    "df_pivot_3['staff turnover'] = df_pivot_3[1] / (df_pivot_3[0] + df_pivot_3[1]) * 100\n",
    "df_pivot_3.sort_values(by = 'staff turnover', ascending = False).reset_index()"
   ]
  },
  {
   "cell_type": "code",
   "execution_count": 144,
   "metadata": {
    "scrolled": true
   },
   "outputs": [
    {
     "data": {
      "text/html": [
       "<div>\n",
       "<style scoped>\n",
       "    .dataframe tbody tr th:only-of-type {\n",
       "        vertical-align: middle;\n",
       "    }\n",
       "\n",
       "    .dataframe tbody tr th {\n",
       "        vertical-align: top;\n",
       "    }\n",
       "\n",
       "    .dataframe thead th {\n",
       "        text-align: right;\n",
       "    }\n",
       "</style>\n",
       "<table border=\"1\" class=\"dataframe\">\n",
       "  <thead>\n",
       "    <tr style=\"text-align: right;\">\n",
       "      <th></th>\n",
       "      <th>satisfaction_level</th>\n",
       "      <th>last_evaluation</th>\n",
       "      <th>average_montly_hours</th>\n",
       "      <th>Work_accident</th>\n",
       "      <th>left</th>\n",
       "      <th>promotion_last_5years</th>\n",
       "    </tr>\n",
       "    <tr>\n",
       "      <th>sales</th>\n",
       "      <th></th>\n",
       "      <th></th>\n",
       "      <th></th>\n",
       "      <th></th>\n",
       "      <th></th>\n",
       "      <th></th>\n",
       "    </tr>\n",
       "  </thead>\n",
       "  <tbody>\n",
       "    <tr>\n",
       "      <th>IT</th>\n",
       "      <td>0.618142</td>\n",
       "      <td>0.716830</td>\n",
       "      <td>202.215974</td>\n",
       "      <td>164</td>\n",
       "      <td>273</td>\n",
       "      <td>3</td>\n",
       "    </tr>\n",
       "    <tr>\n",
       "      <th>RandD</th>\n",
       "      <td>0.619822</td>\n",
       "      <td>0.712122</td>\n",
       "      <td>200.800508</td>\n",
       "      <td>134</td>\n",
       "      <td>121</td>\n",
       "      <td>27</td>\n",
       "    </tr>\n",
       "    <tr>\n",
       "      <th>accounting</th>\n",
       "      <td>0.582151</td>\n",
       "      <td>0.717718</td>\n",
       "      <td>201.162973</td>\n",
       "      <td>96</td>\n",
       "      <td>204</td>\n",
       "      <td>14</td>\n",
       "    </tr>\n",
       "    <tr>\n",
       "      <th>hr</th>\n",
       "      <td>0.598809</td>\n",
       "      <td>0.708850</td>\n",
       "      <td>198.684709</td>\n",
       "      <td>89</td>\n",
       "      <td>215</td>\n",
       "      <td>15</td>\n",
       "    </tr>\n",
       "    <tr>\n",
       "      <th>management</th>\n",
       "      <td>0.621349</td>\n",
       "      <td>0.724000</td>\n",
       "      <td>201.249206</td>\n",
       "      <td>103</td>\n",
       "      <td>91</td>\n",
       "      <td>69</td>\n",
       "    </tr>\n",
       "    <tr>\n",
       "      <th>marketing</th>\n",
       "      <td>0.618601</td>\n",
       "      <td>0.715886</td>\n",
       "      <td>199.385781</td>\n",
       "      <td>138</td>\n",
       "      <td>203</td>\n",
       "      <td>43</td>\n",
       "    </tr>\n",
       "    <tr>\n",
       "      <th>product_mng</th>\n",
       "      <td>0.619634</td>\n",
       "      <td>0.714756</td>\n",
       "      <td>199.965632</td>\n",
       "      <td>132</td>\n",
       "      <td>198</td>\n",
       "      <td>0</td>\n",
       "    </tr>\n",
       "    <tr>\n",
       "      <th>sales</th>\n",
       "      <td>0.614447</td>\n",
       "      <td>0.709717</td>\n",
       "      <td>200.911353</td>\n",
       "      <td>587</td>\n",
       "      <td>1014</td>\n",
       "      <td>100</td>\n",
       "    </tr>\n",
       "    <tr>\n",
       "      <th>support</th>\n",
       "      <td>0.618300</td>\n",
       "      <td>0.723109</td>\n",
       "      <td>200.758188</td>\n",
       "      <td>345</td>\n",
       "      <td>555</td>\n",
       "      <td>20</td>\n",
       "    </tr>\n",
       "    <tr>\n",
       "      <th>technical</th>\n",
       "      <td>0.607897</td>\n",
       "      <td>0.721099</td>\n",
       "      <td>202.497426</td>\n",
       "      <td>381</td>\n",
       "      <td>697</td>\n",
       "      <td>28</td>\n",
       "    </tr>\n",
       "  </tbody>\n",
       "</table>\n",
       "</div>"
      ],
      "text/plain": [
       "             satisfaction_level  last_evaluation  average_montly_hours  \\\n",
       "sales                                                                    \n",
       "IT                     0.618142         0.716830            202.215974   \n",
       "RandD                  0.619822         0.712122            200.800508   \n",
       "accounting             0.582151         0.717718            201.162973   \n",
       "hr                     0.598809         0.708850            198.684709   \n",
       "management             0.621349         0.724000            201.249206   \n",
       "marketing              0.618601         0.715886            199.385781   \n",
       "product_mng            0.619634         0.714756            199.965632   \n",
       "sales                  0.614447         0.709717            200.911353   \n",
       "support                0.618300         0.723109            200.758188   \n",
       "technical              0.607897         0.721099            202.497426   \n",
       "\n",
       "             Work_accident  left  promotion_last_5years  \n",
       "sales                                                    \n",
       "IT                     164   273                      3  \n",
       "RandD                  134   121                     27  \n",
       "accounting              96   204                     14  \n",
       "hr                      89   215                     15  \n",
       "management             103    91                     69  \n",
       "marketing              138   203                     43  \n",
       "product_mng            132   198                      0  \n",
       "sales                  587  1014                    100  \n",
       "support                345   555                     20  \n",
       "technical              381   697                     28  "
      ]
     },
     "execution_count": 144,
     "metadata": {},
     "output_type": "execute_result"
    }
   ],
   "source": [
    "sample_2 = df.groupby(['sales']).agg({'satisfaction_level': 'mean', \n",
    "                                      'last_evaluation': 'mean', \n",
    "                                     'average_montly_hours': 'mean',\n",
    "                                     'Work_accident': 'sum',\n",
    "                                     'left': 'sum',\n",
    "                                     'promotion_last_5years': 'sum'})\n",
    "sample_2"
   ]
  },
  {
   "cell_type": "code",
   "execution_count": 142,
   "metadata": {
    "scrolled": true
   },
   "outputs": [
    {
     "data": {
      "text/html": [
       "<style  type=\"text/css\" >\n",
       "    #T_98bdfa08_6212_11ea_974e_600308a9f226row0_col0 {\n",
       "            width:  10em;\n",
       "             height:  80%;\n",
       "            background:  linear-gradient(90deg,#d65f5f 100.0%, transparent 100.0%);\n",
       "        }    #T_98bdfa08_6212_11ea_974e_600308a9f226row1_col0 {\n",
       "            width:  10em;\n",
       "             height:  80%;\n",
       "            background:  linear-gradient(90deg,#d65f5f 96.1%, transparent 96.1%);\n",
       "        }    #T_98bdfa08_6212_11ea_974e_600308a9f226row2_col0 {\n",
       "            width:  10em;\n",
       "             height:  80%;\n",
       "            background:  linear-gradient(90deg,#d65f5f 95.6%, transparent 95.6%);\n",
       "        }    #T_98bdfa08_6212_11ea_974e_600308a9f226row3_col0 {\n",
       "            width:  10em;\n",
       "             height:  80%;\n",
       "            background:  linear-gradient(90deg,#d65f5f 93.0%, transparent 93.0%);\n",
       "        }    #T_98bdfa08_6212_11ea_974e_600308a9f226row4_col0 {\n",
       "            width:  10em;\n",
       "             height:  80%;\n",
       "            background:  linear-gradient(90deg,#d65f5f 92.2%, transparent 92.2%);\n",
       "        }    #T_98bdfa08_6212_11ea_974e_600308a9f226row5_col0 {\n",
       "            width:  10em;\n",
       "             height:  80%;\n",
       "            background:  linear-gradient(90deg,#d65f5f 91.8%, transparent 91.8%);\n",
       "        }    #T_98bdfa08_6212_11ea_974e_600308a9f226row6_col0 {\n",
       "            width:  10em;\n",
       "             height:  80%;\n",
       "            background:  linear-gradient(90deg,#d65f5f 82.4%, transparent 82.4%);\n",
       "        }    #T_98bdfa08_6212_11ea_974e_600308a9f226row7_col0 {\n",
       "            width:  10em;\n",
       "             height:  80%;\n",
       "            background:  linear-gradient(90deg,#d65f5f 65.7%, transparent 65.7%);\n",
       "        }    #T_98bdfa08_6212_11ea_974e_600308a9f226row8_col0 {\n",
       "            width:  10em;\n",
       "             height:  80%;\n",
       "            background:  linear-gradient(90deg,#d65f5f 42.5%, transparent 42.5%);\n",
       "        }    #T_98bdfa08_6212_11ea_974e_600308a9f226row9_col0 {\n",
       "            width:  10em;\n",
       "             height:  80%;\n",
       "        }</style><table id=\"T_98bdfa08_6212_11ea_974e_600308a9f226\" ><thead>    <tr>        <th class=\"blank level0\" ></th>        <th class=\"col_heading level0 col0\" >satisfaction_level</th>    </tr>    <tr>        <th class=\"index_name level0\" >sales</th>        <th class=\"blank\" ></th>    </tr></thead><tbody>\n",
       "                <tr>\n",
       "                        <th id=\"T_98bdfa08_6212_11ea_974e_600308a9f226level0_row0\" class=\"row_heading level0 row0\" >management</th>\n",
       "                        <td id=\"T_98bdfa08_6212_11ea_974e_600308a9f226row0_col0\" class=\"data row0 col0\" >0.621349</td>\n",
       "            </tr>\n",
       "            <tr>\n",
       "                        <th id=\"T_98bdfa08_6212_11ea_974e_600308a9f226level0_row1\" class=\"row_heading level0 row1\" >RandD</th>\n",
       "                        <td id=\"T_98bdfa08_6212_11ea_974e_600308a9f226row1_col0\" class=\"data row1 col0\" >0.619822</td>\n",
       "            </tr>\n",
       "            <tr>\n",
       "                        <th id=\"T_98bdfa08_6212_11ea_974e_600308a9f226level0_row2\" class=\"row_heading level0 row2\" >product_mng</th>\n",
       "                        <td id=\"T_98bdfa08_6212_11ea_974e_600308a9f226row2_col0\" class=\"data row2 col0\" >0.619634</td>\n",
       "            </tr>\n",
       "            <tr>\n",
       "                        <th id=\"T_98bdfa08_6212_11ea_974e_600308a9f226level0_row3\" class=\"row_heading level0 row3\" >marketing</th>\n",
       "                        <td id=\"T_98bdfa08_6212_11ea_974e_600308a9f226row3_col0\" class=\"data row3 col0\" >0.618601</td>\n",
       "            </tr>\n",
       "            <tr>\n",
       "                        <th id=\"T_98bdfa08_6212_11ea_974e_600308a9f226level0_row4\" class=\"row_heading level0 row4\" >support</th>\n",
       "                        <td id=\"T_98bdfa08_6212_11ea_974e_600308a9f226row4_col0\" class=\"data row4 col0\" >0.618300</td>\n",
       "            </tr>\n",
       "            <tr>\n",
       "                        <th id=\"T_98bdfa08_6212_11ea_974e_600308a9f226level0_row5\" class=\"row_heading level0 row5\" >IT</th>\n",
       "                        <td id=\"T_98bdfa08_6212_11ea_974e_600308a9f226row5_col0\" class=\"data row5 col0\" >0.618142</td>\n",
       "            </tr>\n",
       "            <tr>\n",
       "                        <th id=\"T_98bdfa08_6212_11ea_974e_600308a9f226level0_row6\" class=\"row_heading level0 row6\" >sales</th>\n",
       "                        <td id=\"T_98bdfa08_6212_11ea_974e_600308a9f226row6_col0\" class=\"data row6 col0\" >0.614447</td>\n",
       "            </tr>\n",
       "            <tr>\n",
       "                        <th id=\"T_98bdfa08_6212_11ea_974e_600308a9f226level0_row7\" class=\"row_heading level0 row7\" >technical</th>\n",
       "                        <td id=\"T_98bdfa08_6212_11ea_974e_600308a9f226row7_col0\" class=\"data row7 col0\" >0.607897</td>\n",
       "            </tr>\n",
       "            <tr>\n",
       "                        <th id=\"T_98bdfa08_6212_11ea_974e_600308a9f226level0_row8\" class=\"row_heading level0 row8\" >hr</th>\n",
       "                        <td id=\"T_98bdfa08_6212_11ea_974e_600308a9f226row8_col0\" class=\"data row8 col0\" >0.598809</td>\n",
       "            </tr>\n",
       "            <tr>\n",
       "                        <th id=\"T_98bdfa08_6212_11ea_974e_600308a9f226level0_row9\" class=\"row_heading level0 row9\" >accounting</th>\n",
       "                        <td id=\"T_98bdfa08_6212_11ea_974e_600308a9f226row9_col0\" class=\"data row9 col0\" >0.582151</td>\n",
       "            </tr>\n",
       "    </tbody></table>"
      ],
      "text/plain": [
       "<pandas.io.formats.style.Styler at 0x1a26985210>"
      ]
     },
     "execution_count": 142,
     "metadata": {},
     "output_type": "execute_result"
    }
   ],
   "source": [
    "sample_2[['satisfaction_level']].sort_values(by = 'satisfaction_level', ascending = False).style.bar()"
   ]
  },
  {
   "cell_type": "code",
   "execution_count": 146,
   "metadata": {},
   "outputs": [
    {
     "data": {
      "text/html": [
       "<style  type=\"text/css\" >\n",
       "    #T_db49c5d2_6212_11ea_974e_600308a9f226row0_col0 {\n",
       "            width:  10em;\n",
       "             height:  80%;\n",
       "            background:  linear-gradient(90deg,#d65f5f 100.0%, transparent 100.0%);\n",
       "        }    #T_db49c5d2_6212_11ea_974e_600308a9f226row1_col0 {\n",
       "            width:  10em;\n",
       "             height:  80%;\n",
       "            background:  linear-gradient(90deg,#d65f5f 94.1%, transparent 94.1%);\n",
       "        }    #T_db49c5d2_6212_11ea_974e_600308a9f226row2_col0 {\n",
       "            width:  10em;\n",
       "             height:  80%;\n",
       "            background:  linear-gradient(90deg,#d65f5f 80.9%, transparent 80.9%);\n",
       "        }    #T_db49c5d2_6212_11ea_974e_600308a9f226row3_col0 {\n",
       "            width:  10em;\n",
       "             height:  80%;\n",
       "            background:  linear-gradient(90deg,#d65f5f 58.5%, transparent 58.5%);\n",
       "        }    #T_db49c5d2_6212_11ea_974e_600308a9f226row4_col0 {\n",
       "            width:  10em;\n",
       "             height:  80%;\n",
       "            background:  linear-gradient(90deg,#d65f5f 52.7%, transparent 52.7%);\n",
       "        }    #T_db49c5d2_6212_11ea_974e_600308a9f226row5_col0 {\n",
       "            width:  10em;\n",
       "             height:  80%;\n",
       "            background:  linear-gradient(90deg,#d65f5f 46.4%, transparent 46.4%);\n",
       "        }    #T_db49c5d2_6212_11ea_974e_600308a9f226row6_col0 {\n",
       "            width:  10em;\n",
       "             height:  80%;\n",
       "            background:  linear-gradient(90deg,#d65f5f 39.0%, transparent 39.0%);\n",
       "        }    #T_db49c5d2_6212_11ea_974e_600308a9f226row7_col0 {\n",
       "            width:  10em;\n",
       "             height:  80%;\n",
       "            background:  linear-gradient(90deg,#d65f5f 21.6%, transparent 21.6%);\n",
       "        }    #T_db49c5d2_6212_11ea_974e_600308a9f226row8_col0 {\n",
       "            width:  10em;\n",
       "             height:  80%;\n",
       "            background:  linear-gradient(90deg,#d65f5f 5.7%, transparent 5.7%);\n",
       "        }    #T_db49c5d2_6212_11ea_974e_600308a9f226row9_col0 {\n",
       "            width:  10em;\n",
       "             height:  80%;\n",
       "        }</style><table id=\"T_db49c5d2_6212_11ea_974e_600308a9f226\" ><thead>    <tr>        <th class=\"blank level0\" ></th>        <th class=\"col_heading level0 col0\" >last_evaluation</th>    </tr>    <tr>        <th class=\"index_name level0\" >sales</th>        <th class=\"blank\" ></th>    </tr></thead><tbody>\n",
       "                <tr>\n",
       "                        <th id=\"T_db49c5d2_6212_11ea_974e_600308a9f226level0_row0\" class=\"row_heading level0 row0\" >management</th>\n",
       "                        <td id=\"T_db49c5d2_6212_11ea_974e_600308a9f226row0_col0\" class=\"data row0 col0\" >0.724000</td>\n",
       "            </tr>\n",
       "            <tr>\n",
       "                        <th id=\"T_db49c5d2_6212_11ea_974e_600308a9f226level0_row1\" class=\"row_heading level0 row1\" >support</th>\n",
       "                        <td id=\"T_db49c5d2_6212_11ea_974e_600308a9f226row1_col0\" class=\"data row1 col0\" >0.723109</td>\n",
       "            </tr>\n",
       "            <tr>\n",
       "                        <th id=\"T_db49c5d2_6212_11ea_974e_600308a9f226level0_row2\" class=\"row_heading level0 row2\" >technical</th>\n",
       "                        <td id=\"T_db49c5d2_6212_11ea_974e_600308a9f226row2_col0\" class=\"data row2 col0\" >0.721099</td>\n",
       "            </tr>\n",
       "            <tr>\n",
       "                        <th id=\"T_db49c5d2_6212_11ea_974e_600308a9f226level0_row3\" class=\"row_heading level0 row3\" >accounting</th>\n",
       "                        <td id=\"T_db49c5d2_6212_11ea_974e_600308a9f226row3_col0\" class=\"data row3 col0\" >0.717718</td>\n",
       "            </tr>\n",
       "            <tr>\n",
       "                        <th id=\"T_db49c5d2_6212_11ea_974e_600308a9f226level0_row4\" class=\"row_heading level0 row4\" >IT</th>\n",
       "                        <td id=\"T_db49c5d2_6212_11ea_974e_600308a9f226row4_col0\" class=\"data row4 col0\" >0.716830</td>\n",
       "            </tr>\n",
       "            <tr>\n",
       "                        <th id=\"T_db49c5d2_6212_11ea_974e_600308a9f226level0_row5\" class=\"row_heading level0 row5\" >marketing</th>\n",
       "                        <td id=\"T_db49c5d2_6212_11ea_974e_600308a9f226row5_col0\" class=\"data row5 col0\" >0.715886</td>\n",
       "            </tr>\n",
       "            <tr>\n",
       "                        <th id=\"T_db49c5d2_6212_11ea_974e_600308a9f226level0_row6\" class=\"row_heading level0 row6\" >product_mng</th>\n",
       "                        <td id=\"T_db49c5d2_6212_11ea_974e_600308a9f226row6_col0\" class=\"data row6 col0\" >0.714756</td>\n",
       "            </tr>\n",
       "            <tr>\n",
       "                        <th id=\"T_db49c5d2_6212_11ea_974e_600308a9f226level0_row7\" class=\"row_heading level0 row7\" >RandD</th>\n",
       "                        <td id=\"T_db49c5d2_6212_11ea_974e_600308a9f226row7_col0\" class=\"data row7 col0\" >0.712122</td>\n",
       "            </tr>\n",
       "            <tr>\n",
       "                        <th id=\"T_db49c5d2_6212_11ea_974e_600308a9f226level0_row8\" class=\"row_heading level0 row8\" >sales</th>\n",
       "                        <td id=\"T_db49c5d2_6212_11ea_974e_600308a9f226row8_col0\" class=\"data row8 col0\" >0.709717</td>\n",
       "            </tr>\n",
       "            <tr>\n",
       "                        <th id=\"T_db49c5d2_6212_11ea_974e_600308a9f226level0_row9\" class=\"row_heading level0 row9\" >hr</th>\n",
       "                        <td id=\"T_db49c5d2_6212_11ea_974e_600308a9f226row9_col0\" class=\"data row9 col0\" >0.708850</td>\n",
       "            </tr>\n",
       "    </tbody></table>"
      ],
      "text/plain": [
       "<pandas.io.formats.style.Styler at 0x1a26985250>"
      ]
     },
     "execution_count": 146,
     "metadata": {},
     "output_type": "execute_result"
    }
   ],
   "source": [
    "sample_2[['last_evaluation']].sort_values(by = 'last_evaluation', ascending = False).style.bar()"
   ]
  },
  {
   "cell_type": "markdown",
   "metadata": {},
   "source": [
    "Самая высокая текучесть кадров в департаменте HR. Этот департамент занимает последнюю строчку по уровню удовлетворенности и последней оценке персонала. Что так же может влиять на то, почему сотрудники покидают компанию."
   ]
  }
 ],
 "metadata": {
  "kernelspec": {
   "display_name": "Python 3",
   "language": "python",
   "name": "python3"
  },
  "language_info": {
   "codemirror_mode": {
    "name": "ipython",
    "version": 3
   },
   "file_extension": ".py",
   "mimetype": "text/x-python",
   "name": "python",
   "nbconvert_exporter": "python",
   "pygments_lexer": "ipython3",
   "version": "3.7.4"
  }
 },
 "nbformat": 4,
 "nbformat_minor": 4
}

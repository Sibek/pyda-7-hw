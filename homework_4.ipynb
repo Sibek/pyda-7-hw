{
 "cells": [
  {
   "cell_type": "markdown",
   "metadata": {},
   "source": [
    "## Задание 1"
   ]
  },
  {
   "cell_type": "markdown",
   "metadata": {},
   "source": [
    "Дан список вида:"
   ]
  },
  {
   "cell_type": "code",
   "execution_count": 746,
   "metadata": {},
   "outputs": [],
   "source": [
    "data = [\n",
    "    [13, 25, 23, 34],\n",
    "    [45, 32, 44, 47],\n",
    "    [12, 33, 23, 95],\n",
    "    [13, 53, 34, 35]\n",
    "]"
   ]
  },
  {
   "cell_type": "markdown",
   "metadata": {},
   "source": [
    "Напишите функцию, которая возвращает сумму элементов на диагонали. Т. е. 13+32+23+35.  \n",
    "Список может быть любой длины, но всегда является \"квадратным\" (количество элементов во вложенных списках равно их количеству)."
   ]
  },
  {
   "cell_type": "code",
   "execution_count": 747,
   "metadata": {},
   "outputs": [],
   "source": [
    "def count_diag(list):\n",
    "    i = 0\n",
    "    numbers = []\n",
    "    for x in list:\n",
    "        numbers.append(x[i])\n",
    "        i += 1\n",
    "    result = sum(numbers)\n",
    "    return result"
   ]
  },
  {
   "cell_type": "code",
   "execution_count": 748,
   "metadata": {},
   "outputs": [
    {
     "name": "stdout",
     "output_type": "stream",
     "text": [
      "103\n"
     ]
    }
   ],
   "source": [
    "print(count_diag(data))"
   ]
  },
  {
   "cell_type": "code",
   "execution_count": 749,
   "metadata": {},
   "outputs": [],
   "source": [
    "data2 = [\n",
    "         [14, 25, 36, 25, 56],\n",
    "         [12, 23, 89, 57, 92],\n",
    "         [46, 52, 47, 27, 68],\n",
    "         [35, 36, 57, 21, 87],\n",
    "         [45, 57, 21, 78, 33]\n",
    "]"
   ]
  },
  {
   "cell_type": "code",
   "execution_count": 750,
   "metadata": {},
   "outputs": [
    {
     "name": "stdout",
     "output_type": "stream",
     "text": [
      "138\n"
     ]
    }
   ],
   "source": [
    "print(count_diag(data2))"
   ]
  },
  {
   "cell_type": "markdown",
   "metadata": {},
   "source": [
    "## Задание 2"
   ]
  },
  {
   "cell_type": "markdown",
   "metadata": {},
   "source": [
    "Напишите функцию, возвращающую сумму первых n чисел Фибоначчи (для этого вам может понадобится ознакомиться с рекурсией)."
   ]
  },
  {
   "cell_type": "code",
   "execution_count": 751,
   "metadata": {},
   "outputs": [],
   "source": [
    "def fibonacci(n):\n",
    "    if n < 3:\n",
    "        return 1\n",
    "    else:\n",
    "        return fibonacci(n - 1) + fibonacci(n - 2)"
   ]
  },
  {
   "cell_type": "code",
   "execution_count": 752,
   "metadata": {},
   "outputs": [],
   "source": [
    "def fib_sum(n):\n",
    "    sample = []\n",
    "    while n > 0:\n",
    "        if n < 3:\n",
    "            sample.append(1)\n",
    "        else:\n",
    "            sample.append(fibonacci(n - 1) + fibonacci(n - 2))\n",
    "        n -= 1\n",
    "    return(sum(sample))"
   ]
  },
  {
   "cell_type": "code",
   "execution_count": 758,
   "metadata": {},
   "outputs": [
    {
     "name": "stdout",
     "output_type": "stream",
     "text": [
      "54\n"
     ]
    }
   ],
   "source": [
    "print(fib_sum(8))"
   ]
  },
  {
   "cell_type": "markdown",
   "metadata": {},
   "source": [
    "## Задание 3\n"
   ]
  },
  {
   "cell_type": "markdown",
   "metadata": {},
   "source": [
    "Напишите функцию, преобразующую произвольный список вида ['2018-01-01', 'yandex', 'cpc', 100] (он может быть любой длины) в словарь {'2018-01-01': {'yandex': {'cpc': 100}}}"
   ]
  },
  {
   "cell_type": "code",
   "execution_count": 759,
   "metadata": {},
   "outputs": [],
   "source": [
    "def list_dict(n):\n",
    "    x = -2\n",
    "    i = 1\n",
    "    a = n[-1]\n",
    "    for dict_1 in n:\n",
    "        if i < len(n):\n",
    "            d1 = {}\n",
    "            d1[n[x]] = a\n",
    "            a = d1\n",
    "            x -= 1\n",
    "            i += 1\n",
    "    return d1"
   ]
  },
  {
   "cell_type": "code",
   "execution_count": 760,
   "metadata": {},
   "outputs": [
    {
     "data": {
      "text/plain": [
       "{'2018-01-01': {'yandex': {'cpc': {100: {'rer': {5000: 'rtrt'}}}}}}"
      ]
     },
     "execution_count": 760,
     "metadata": {},
     "output_type": "execute_result"
    }
   ],
   "source": [
    "list_dict(['2018-01-01', 'yandex', 'cpc', 100, 'rer', 5000, 'rtrt'])"
   ]
  },
  {
   "cell_type": "markdown",
   "metadata": {},
   "source": [
    "## Задание 4"
   ]
  },
  {
   "cell_type": "markdown",
   "metadata": {},
   "source": [
    "Вы работаете секретарем и вам постоянно приходят различные документы. Вы должны быть очень внимательны, чтобы не потерять ни один документ. Каталог документов хранится в следующем виде:"
   ]
  },
  {
   "cell_type": "code",
   "execution_count": 494,
   "metadata": {},
   "outputs": [],
   "source": [
    "documents = [\n",
    "    {'type': 'passport', 'number': '2207 876234', 'name': 'Василий Гупкин'},\n",
    "    {'type': 'invoice', 'number': '11-2', 'name': 'Геннадий Покемонов'},\n",
    "    {'type': 'insurance', 'number': '10006', 'name': 'Аристарх Павлов'}\n",
    "]"
   ]
  },
  {
   "cell_type": "markdown",
   "metadata": {},
   "source": [
    "Перечень полок, на которых находятся документы хранится в следующем виде:"
   ]
  },
  {
   "cell_type": "code",
   "execution_count": 495,
   "metadata": {},
   "outputs": [],
   "source": [
    "directories = {\n",
    "    '1': ['2207 876234', '11-2', '5455 028765'],\n",
    "    '2': ['10006', '5400 028765', '5455 002299'],\n",
    "    '3': []\n",
    "}"
   ]
  },
  {
   "cell_type": "markdown",
   "metadata": {},
   "source": [
    "Необходимо реализовать пользовательские команды (внимание! это не название функций, которые должны быть выразительными, а команды, которые вводит пользователь, чтобы получить необходимый результат):\n",
    "  \n",
    "- p – people – команда, которая спросит номер документа и выведет имя человека, которому он принадлежит;  \n",
    "- s – shelf – команда, которая спросит номер документа и выведет номер полки, на которой он находится  \n",
    "Правильно обработайте ситуацию, когда пользователь будет вводить несуществующий документ.\n",
    "- l – list – команда, которая выведет список всех документов в формате   \n",
    "**passport \"2207 876234\" \"Василий Гупкин\"**  \n",
    "- as – add shelf – команда, которая спросит номер новой полки и добавит ее в перечень\n",
    "- d – delete – команда, которая спросит номер документа и удалит его из каталога и из перечня полок. Предусмотрите сценарий, когда пользователь вводит несуществующий документ;  \n",
    "- m – move – команда, которая спросит номер документа и целевую полку и переместит его с текущей полки на целевую. Корректно обработайте кейсы, когда пользователь пытается переместить несуществующий документ или переместить документ на несуществующую полку;  \n",
    "- a – add – команда, которая добавит новый документ в каталог и в перечень полок, спросив его номер, тип, имя владельца и номер полки, на котором он будет храниться."
   ]
  },
  {
   "cell_type": "markdown",
   "metadata": {},
   "source": [
    "# p – people"
   ]
  },
  {
   "cell_type": "code",
   "execution_count": 428,
   "metadata": {},
   "outputs": [],
   "source": [
    "def find_p(n):\n",
    "    for i in documents:\n",
    "        for key, value in i.items():\n",
    "            if i.get('number') == n:\n",
    "                return(i.get('name'))"
   ]
  },
  {
   "cell_type": "markdown",
   "metadata": {},
   "source": [
    "# s – shelf"
   ]
  },
  {
   "cell_type": "code",
   "execution_count": 79,
   "metadata": {},
   "outputs": [],
   "source": [
    "def find_s(n):\n",
    "    for key, value in directories.items():\n",
    "        if n in value:\n",
    "            return(key)"
   ]
  },
  {
   "cell_type": "markdown",
   "metadata": {},
   "source": [
    "# l - list"
   ]
  },
  {
   "cell_type": "code",
   "execution_count": 109,
   "metadata": {},
   "outputs": [
    {
     "name": "stdout",
     "output_type": "stream",
     "text": [
      "passport \"2207 876234\" \"Василий Гупкин\"\n",
      "invoice \"11-2\" \"Геннадий Покемонов\"\n",
      "insurance \"10006\" \"Аристарх Павлов\"\n"
     ]
    }
   ],
   "source": [
    "for i in documents:\n",
    "    print(i.get('type'), ' \"', i.get('number'), '\" ', '\"', i.get('name'), '\"', sep='')"
   ]
  },
  {
   "cell_type": "markdown",
   "metadata": {},
   "source": [
    "# as - add shelf"
   ]
  },
  {
   "cell_type": "code",
   "execution_count": 315,
   "metadata": {},
   "outputs": [],
   "source": [
    "def add_s(n):\n",
    "    directories[n] = []\n",
    "    return ('Полка добавлена')"
   ]
  },
  {
   "cell_type": "markdown",
   "metadata": {},
   "source": [
    "# d - delete"
   ]
  },
  {
   "cell_type": "code",
   "execution_count": 582,
   "metadata": {},
   "outputs": [],
   "source": [
    "def del_d_1(n):\n",
    "    for i in documents:\n",
    "        for key, value in i.items():\n",
    "            if i.get('number') == n:\n",
    "                documents.remove(i)\n",
    "                return True"
   ]
  },
  {
   "cell_type": "code",
   "execution_count": 583,
   "metadata": {},
   "outputs": [],
   "source": [
    "def del_d_2(n):\n",
    "    for key, value in directories.items():\n",
    "        if n in value:\n",
    "            value.remove(n)"
   ]
  },
  {
   "cell_type": "code",
   "execution_count": 593,
   "metadata": {},
   "outputs": [],
   "source": [
    "def del_from_all(n):\n",
    "    if del_d_1(n) == True:\n",
    "        del_d_1(n)\n",
    "        del_d_2(n)\n",
    "        return('Документ удален')\n",
    "    else:\n",
    "        return('Неверно введен номер документа')"
   ]
  },
  {
   "cell_type": "markdown",
   "metadata": {},
   "source": [
    "# m - move"
   ]
  },
  {
   "cell_type": "code",
   "execution_count": 429,
   "metadata": {},
   "outputs": [],
   "source": [
    "def m_find_doc(n):\n",
    "    for key, value in directories.items():\n",
    "        if n in value:\n",
    "            return True"
   ]
  },
  {
   "cell_type": "code",
   "execution_count": 433,
   "metadata": {},
   "outputs": [],
   "source": [
    "def m_find_shelf(b):\n",
    "    for key, value in directories.items():\n",
    "        if key == b:\n",
    "            return True"
   ]
  },
  {
   "cell_type": "code",
   "execution_count": 422,
   "metadata": {},
   "outputs": [],
   "source": [
    "def move_1(n):\n",
    "    for key, value in directories.items():\n",
    "        if n in value:\n",
    "            value.remove(n)"
   ]
  },
  {
   "cell_type": "code",
   "execution_count": 423,
   "metadata": {},
   "outputs": [],
   "source": [
    "def move_2(b):\n",
    "    for key, value in directories.items():\n",
    "        if key == b:\n",
    "            value.append(n)"
   ]
  },
  {
   "cell_type": "code",
   "execution_count": 475,
   "metadata": {},
   "outputs": [],
   "source": [
    "def move_all(n, b):\n",
    "    if m_find_doc(n) == True and m_find_shelf(b) == True:\n",
    "        move_1(n)\n",
    "        move_2(b)\n",
    "        return('Документ перемещен')\n",
    "    elif m_find_doc(n) == None and m_find_shelf(b) == None:\n",
    "        return('Неверно введены номер документа и номер полки')\n",
    "    elif m_find_doc(n) == None and m_find_shelf(b) == True:\n",
    "        return('Неверно введен номер документа')\n",
    "    elif m_find_doc(n) == True and m_find_shelf(b) == None:\n",
    "        return('Неверно введен номер полки')"
   ]
  },
  {
   "cell_type": "markdown",
   "metadata": {},
   "source": [
    "# a - add"
   ]
  },
  {
   "cell_type": "code",
   "execution_count": 694,
   "metadata": {},
   "outputs": [],
   "source": [
    "def add_dir(b, d):\n",
    "    for key, value in directories.items():\n",
    "        if key == d:\n",
    "            value.append(b)\n",
    "            return True\n",
    "            break"
   ]
  },
  {
   "cell_type": "code",
   "execution_count": 695,
   "metadata": {},
   "outputs": [],
   "source": [
    "def add_doc(a, b, c):\n",
    "    dict_1 = {}\n",
    "    dict_1['type'] = a\n",
    "    dict_1['number'] = b\n",
    "    dict_1['name'] = c\n",
    "    documents.append(dict_1)"
   ]
  },
  {
   "cell_type": "code",
   "execution_count": 696,
   "metadata": {},
   "outputs": [],
   "source": [
    "def add_p(a, b, c, d):\n",
    "    if add_dir(b, d) == True:\n",
    "        add_doc(a, b, c)\n",
    "        return('Данные добавлены')\n",
    "    else:\n",
    "        return('Неверно введен номер полки')"
   ]
  },
  {
   "cell_type": "markdown",
   "metadata": {},
   "source": [
    "# Итоговая команда"
   ]
  },
  {
   "cell_type": "code",
   "execution_count": 787,
   "metadata": {},
   "outputs": [],
   "source": [
    "documents = [\n",
    "    {'type': 'passport', 'number': '2207 876234', 'name': 'Василий Гупкин'},\n",
    "    {'type': 'invoice', 'number': '11-2', 'name': 'Геннадий Покемонов'},\n",
    "    {'type': 'insurance', 'number': '10006', 'name': 'Аристарх Павлов'}\n",
    "]"
   ]
  },
  {
   "cell_type": "code",
   "execution_count": 788,
   "metadata": {},
   "outputs": [],
   "source": [
    "directories = {\n",
    "    '1': ['2207 876234', '11-2', '5455 028765'],\n",
    "    '2': ['10006', '5400 028765', '5455 002299'],\n",
    "    '3': []\n",
    "}"
   ]
  },
  {
   "cell_type": "code",
   "execution_count": 789,
   "metadata": {},
   "outputs": [
    {
     "name": "stdout",
     "output_type": "stream",
     "text": [
      "Введите командуa\n",
      "Введите тип документаid\n",
      "Введите номер документа76856875\n",
      "Введите имяИван Иванов\n",
      "Введите номер полки3\n",
      "Данные добавлены\n"
     ]
    }
   ],
   "source": [
    "x = input('Введите команду')\n",
    "commands = ['p', 's', 'l', 'as', 'd', 'm', 'a']\n",
    "if x in commands:\n",
    "    if x == 'p':\n",
    "        n = input('Введите номер документа')\n",
    "        if find_p(n) == None:\n",
    "            print('Документ не найден')\n",
    "        else:\n",
    "            print(find_p(n))\n",
    "    elif x == 's':\n",
    "        n = input('Введите номер документа')\n",
    "        if find_s(n) == None:\n",
    "            print('Документ не найден')\n",
    "        else:\n",
    "            print(find_s(n))\n",
    "    elif x == 'l':\n",
    "        for i in documents:\n",
    "            print(i.get('type'), ' \"', i.get('number'), '\" ', '\"', i.get('name'), '\"', sep='')\n",
    "    elif x == 'as':\n",
    "        n = input('Введите номер полки')\n",
    "        print(add_s(n))\n",
    "    elif x == 'd':\n",
    "        n = input('Введите номер документа')\n",
    "        print(del_from_all(n))\n",
    "    elif x == 'm':\n",
    "        n = input('Введите номер документа')\n",
    "        b = input('Введите номер полки')\n",
    "        print(move_all(n, b))\n",
    "    elif x == 'a':\n",
    "        a = input('Введите тип документа')\n",
    "        b = input('Введите номер документа')\n",
    "        c = input('Введите имя')\n",
    "        d = input('Введите номер полки')\n",
    "        print(add_p(a, b, c, d))\n",
    "else:\n",
    "    print('Неверная команда')"
   ]
  },
  {
   "cell_type": "code",
   "execution_count": 790,
   "metadata": {},
   "outputs": [
    {
     "name": "stdout",
     "output_type": "stream",
     "text": [
      "[{'type': 'passport', 'number': '2207 876234', 'name': 'Василий Гупкин'}, {'type': 'invoice', 'number': '11-2', 'name': 'Геннадий Покемонов'}, {'type': 'insurance', 'number': '10006', 'name': 'Аристарх Павлов'}, {'type': 'id', 'number': '76856875', 'name': 'Иван Иванов'}]\n"
     ]
    }
   ],
   "source": [
    "print(documents)"
   ]
  },
  {
   "cell_type": "code",
   "execution_count": 791,
   "metadata": {},
   "outputs": [
    {
     "name": "stdout",
     "output_type": "stream",
     "text": [
      "{'1': ['2207 876234', '11-2', '5455 028765'], '2': ['10006', '5400 028765', '5455 002299'], '3': ['76856875']}\n"
     ]
    }
   ],
   "source": [
    "print(directories)"
   ]
  }
 ],
 "metadata": {
  "kernelspec": {
   "display_name": "Python 3",
   "language": "python",
   "name": "python3"
  },
  "language_info": {
   "codemirror_mode": {
    "name": "ipython",
    "version": 3
   },
   "file_extension": ".py",
   "mimetype": "text/x-python",
   "name": "python",
   "nbconvert_exporter": "python",
   "pygments_lexer": "ipython3",
   "version": "3.7.4"
  }
 },
 "nbformat": 4,
 "nbformat_minor": 2
}
